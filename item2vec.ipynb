{
 "cells": [
  {
   "cell_type": "markdown",
   "metadata": {},
   "source": [
    "# Building a Fashion Recommender System from Learned Embeddings\n",
    "```\n",
    "Seyed Saeid Masoumzadeh \n",
    "Senior Data Scientist @ Lyst\n",
    "Open Data Science Conference (ODSC) London - 16th June 2022\n",
    "```\n",
    "<br/><br/>\n",
    "<br/><br/>\n",
    "<br/><br/>\n",
    "<br/><br/>\n",
    "<br/><br/>\n",
    "\n",
    "\n",
    "\n",
    "\n",
    "\n"
   ]
  },
  {
   "cell_type": "markdown",
   "metadata": {},
   "source": [
    "\n",
    "**The packages we need to import for this workshop**\n"
   ]
  },
  {
   "cell_type": "code",
   "execution_count": 1,
   "metadata": {},
   "outputs": [],
   "source": [
    "import pandas as pd\n",
    "import numpy as np\n",
    "import fasttext\n",
    "import glob\n",
    "import re\n",
    "import cv2\n",
    "import matplotlib.pyplot as plt\n",
    "from rpforest import RPForest"
   ]
  },
  {
   "cell_type": "markdown",
   "metadata": {},
   "source": [
    "### Word2vec - SkipGram architecture "
   ]
  },
  {
   "cell_type": "markdown",
   "metadata": {},
   "source": [
    "```\n",
    "The Skip-gram model architecture usually tries to predict the probability of the context words (surrounding words) given a target word.\n",
    "\n",
    "```\n",
    "- A shallow network including just one hidden layer\n",
    "- Input size is equal to the number of unique words/phrases we have in our text/corpus\n",
    "- Output size is also equal to the number of unique words/phrases we have in our text/corpus"
   ]
  },
  {
   "cell_type": "markdown",
   "metadata": {},
   "source": [
    "![title](img/skipgram.png)"
   ]
  },
  {
   "cell_type": "markdown",
   "metadata": {},
   "source": [
    "<br/><br/>\n",
    "<br/><br/>\n",
    "<br/><br/>\n",
    "<br/><br/>\n",
    "<br/><br/>"
   ]
  },
  {
   "cell_type": "markdown",
   "metadata": {},
   "source": [
    "### Word2vec - Data Sampling \n",
    "```\n",
    "the word2vec data sampling using a sliding window strategy whereby the window size specifies how many next or previous token must be considered to be paired with a given token in the window.\n",
    "```"
   ]
  },
  {
   "cell_type": "markdown",
   "metadata": {},
   "source": [
    "![title](img/sampling.png)"
   ]
  },
  {
   "cell_type": "markdown",
   "metadata": {},
   "source": [
    "## Writing a method to do sampling using sliding window"
   ]
  },
  {
   "cell_type": "code",
   "execution_count": 2,
   "metadata": {},
   "outputs": [],
   "source": [
    "def sample_data(sequence, window_size):\n",
    "    \"\"\"\n",
    "    This function provides a sampling using a window strategy, the window moves on the sequence\n",
    "    of link_ids and the positives are selected in the scope of the window. e.g, if a list of sequence is\n",
    "    [1,2,3,4] and the window is 1, the samples are [(1,2), (2,1), (2,3), (3,2), (3,4), (4,3)].\n",
    "    \"\"\"\n",
    "\n",
    "    number_of_tokens = len(sequence)\n",
    "    samples = []\n",
    "    for i in range(number_of_tokens):\n",
    "        nbr_inds = list(range(max(0, i - window_size), i)) + list(\n",
    "            range(i + 1, min(number_of_tokens, i + window_size + 1))\n",
    "        )\n",
    "        for j in nbr_inds:\n",
    "            samples.append((sequence[i], sequence[j]))\n",
    "    return samples"
   ]
  },
  {
   "cell_type": "code",
   "execution_count": 3,
   "metadata": {
    "scrolled": false
   },
   "outputs": [
    {
     "data": {
      "text/plain": [
       "[('the', 'quick'),\n",
       " ('the', 'brown'),\n",
       " ('quick', 'the'),\n",
       " ('quick', 'brown'),\n",
       " ('quick', 'fox'),\n",
       " ('brown', 'the'),\n",
       " ('brown', 'quick'),\n",
       " ('brown', 'fox'),\n",
       " ('brown', 'jumps'),\n",
       " ('fox', 'quick'),\n",
       " ('fox', 'brown'),\n",
       " ('fox', 'jumps'),\n",
       " ('fox', 'over'),\n",
       " ('jumps', 'brown'),\n",
       " ('jumps', 'fox'),\n",
       " ('jumps', 'over'),\n",
       " ('jumps', 'the'),\n",
       " ('over', 'fox'),\n",
       " ('over', 'jumps'),\n",
       " ('over', 'the'),\n",
       " ('over', 'lazy'),\n",
       " ('the', 'jumps'),\n",
       " ('the', 'over'),\n",
       " ('the', 'lazy'),\n",
       " ('the', 'dog'),\n",
       " ('lazy', 'over'),\n",
       " ('lazy', 'the'),\n",
       " ('lazy', 'dog'),\n",
       " ('dog', 'the'),\n",
       " ('dog', 'lazy')]"
      ]
     },
     "execution_count": 3,
     "metadata": {},
     "output_type": "execute_result"
    }
   ],
   "source": [
    "sequence = ['the', 'quick', 'brown', 'fox', 'jumps', 'over', 'the', 'lazy', 'dog']\n",
    "sample_data(sequence, window_size = 2)"
   ]
  },
  {
   "cell_type": "markdown",
   "metadata": {},
   "source": [
    "```\n",
    "\n",
    "For the sample (quick, brown), the input to word2vec model is a one-hot vector where all the cells are zeros except the cell pointing to the word quick,  which is initialized with 1. The output is again a one-hot vector where all the cells are zeros except the cell pointing to the word brown. Briefly speaking word2vec can be considered as a multi class classifier and can be solved using a sampled softmax loss.  \n",
    "```\n"
   ]
  },
  {
   "cell_type": "markdown",
   "metadata": {},
   "source": [
    "```\n",
    "A sentence is a sequence of words, and Word2vec using skip-gram model tries to find the probability of the surrounding words given a word. Is it a concept that we can apply on the other sequences?\n",
    "```"
   ]
  },
  {
   "cell_type": "markdown",
   "metadata": {},
   "source": [
    "### Reading session data"
   ]
  },
  {
   "cell_type": "markdown",
   "metadata": {},
   "source": [
    "This is an anonymized data, showing the users' interactions in terms of clicking on the items, for example in a fashion platform like Lyst. \n",
    "- the session_id represnts a user\n",
    "- the product_id represents a fashion product/clothing item has been clicked by the user\n",
    "- the event_time_stamp is the time the click event occurred"
   ]
  },
  {
   "cell_type": "code",
   "execution_count": 4,
   "metadata": {},
   "outputs": [
    {
     "data": {
      "text/html": [
       "<div>\n",
       "<style scoped>\n",
       "    .dataframe tbody tr th:only-of-type {\n",
       "        vertical-align: middle;\n",
       "    }\n",
       "\n",
       "    .dataframe tbody tr th {\n",
       "        vertical-align: top;\n",
       "    }\n",
       "\n",
       "    .dataframe thead th {\n",
       "        text-align: right;\n",
       "    }\n",
       "</style>\n",
       "<table border=\"1\" class=\"dataframe\">\n",
       "  <thead>\n",
       "    <tr style=\"text-align: right;\">\n",
       "      <th></th>\n",
       "      <th>session_id</th>\n",
       "      <th>product_id</th>\n",
       "      <th>event_time_stamp</th>\n",
       "    </tr>\n",
       "  </thead>\n",
       "  <tbody>\n",
       "    <tr>\n",
       "      <th>0</th>\n",
       "      <td>rziilb8xngl7axi</td>\n",
       "      <td>1544477</td>\n",
       "      <td>2022-06-04 00:00:00.430</td>\n",
       "    </tr>\n",
       "    <tr>\n",
       "      <th>1</th>\n",
       "      <td>yk1ibw2nevwyant</td>\n",
       "      <td>1360865</td>\n",
       "      <td>2022-06-04 00:00:00.563</td>\n",
       "    </tr>\n",
       "    <tr>\n",
       "      <th>2</th>\n",
       "      <td>j80ucwafjg3gsm7</td>\n",
       "      <td>1505732</td>\n",
       "      <td>2022-06-04 00:00:00.572</td>\n",
       "    </tr>\n",
       "    <tr>\n",
       "      <th>3</th>\n",
       "      <td>ptdwim37jh3fwyf</td>\n",
       "      <td>1351180</td>\n",
       "      <td>2022-06-04 00:00:01.760</td>\n",
       "    </tr>\n",
       "    <tr>\n",
       "      <th>4</th>\n",
       "      <td>tpvq343wxo4xvg0</td>\n",
       "      <td>1550991</td>\n",
       "      <td>2022-06-04 00:00:02.620</td>\n",
       "    </tr>\n",
       "  </tbody>\n",
       "</table>\n",
       "</div>"
      ],
      "text/plain": [
       "        session_id  product_id         event_time_stamp\n",
       "0  rziilb8xngl7axi     1544477  2022-06-04 00:00:00.430\n",
       "1  yk1ibw2nevwyant     1360865  2022-06-04 00:00:00.563\n",
       "2  j80ucwafjg3gsm7     1505732  2022-06-04 00:00:00.572\n",
       "3  ptdwim37jh3fwyf     1351180  2022-06-04 00:00:01.760\n",
       "4  tpvq343wxo4xvg0     1550991  2022-06-04 00:00:02.620"
      ]
     },
     "execution_count": 4,
     "metadata": {},
     "output_type": "execute_result"
    }
   ],
   "source": [
    "data = pd.read_parquet(\"data/data.parquet\")\n",
    "data.head()"
   ]
  },
  {
   "cell_type": "markdown",
   "metadata": {},
   "source": [
    "### Sorting by event time stamp"
   ]
  },
  {
   "cell_type": "code",
   "execution_count": 5,
   "metadata": {},
   "outputs": [
    {
     "data": {
      "text/html": [
       "<div>\n",
       "<style scoped>\n",
       "    .dataframe tbody tr th:only-of-type {\n",
       "        vertical-align: middle;\n",
       "    }\n",
       "\n",
       "    .dataframe tbody tr th {\n",
       "        vertical-align: top;\n",
       "    }\n",
       "\n",
       "    .dataframe thead th {\n",
       "        text-align: right;\n",
       "    }\n",
       "</style>\n",
       "<table border=\"1\" class=\"dataframe\">\n",
       "  <thead>\n",
       "    <tr style=\"text-align: right;\">\n",
       "      <th></th>\n",
       "      <th>session_id</th>\n",
       "      <th>product_id</th>\n",
       "      <th>event_time_stamp</th>\n",
       "    </tr>\n",
       "  </thead>\n",
       "  <tbody>\n",
       "    <tr>\n",
       "      <th>0</th>\n",
       "      <td>rziilb8xngl7axi</td>\n",
       "      <td>1544477</td>\n",
       "      <td>2022-06-04 00:00:00.430</td>\n",
       "    </tr>\n",
       "    <tr>\n",
       "      <th>1</th>\n",
       "      <td>yk1ibw2nevwyant</td>\n",
       "      <td>1360865</td>\n",
       "      <td>2022-06-04 00:00:00.563</td>\n",
       "    </tr>\n",
       "    <tr>\n",
       "      <th>2</th>\n",
       "      <td>j80ucwafjg3gsm7</td>\n",
       "      <td>1505732</td>\n",
       "      <td>2022-06-04 00:00:00.572</td>\n",
       "    </tr>\n",
       "    <tr>\n",
       "      <th>3</th>\n",
       "      <td>ptdwim37jh3fwyf</td>\n",
       "      <td>1351180</td>\n",
       "      <td>2022-06-04 00:00:01.760</td>\n",
       "    </tr>\n",
       "    <tr>\n",
       "      <th>4</th>\n",
       "      <td>tpvq343wxo4xvg0</td>\n",
       "      <td>1550991</td>\n",
       "      <td>2022-06-04 00:00:02.620</td>\n",
       "    </tr>\n",
       "  </tbody>\n",
       "</table>\n",
       "</div>"
      ],
      "text/plain": [
       "        session_id  product_id         event_time_stamp\n",
       "0  rziilb8xngl7axi     1544477  2022-06-04 00:00:00.430\n",
       "1  yk1ibw2nevwyant     1360865  2022-06-04 00:00:00.563\n",
       "2  j80ucwafjg3gsm7     1505732  2022-06-04 00:00:00.572\n",
       "3  ptdwim37jh3fwyf     1351180  2022-06-04 00:00:01.760\n",
       "4  tpvq343wxo4xvg0     1550991  2022-06-04 00:00:02.620"
      ]
     },
     "execution_count": 5,
     "metadata": {},
     "output_type": "execute_result"
    }
   ],
   "source": [
    "data = data.sort_values('event_time_stamp')\n",
    "data.head()"
   ]
  },
  {
   "cell_type": "markdown",
   "metadata": {},
   "source": [
    "### Representing the sequence of clicks\n",
    "```\n",
    "grouping the data by session_id allows us to build the product_id sequences which have been clicked by the users. Each sequence has been sorted by the time the click occurred as a result of the previous sorting logic.\n",
    "```  "
   ]
  },
  {
   "cell_type": "code",
   "execution_count": 6,
   "metadata": {},
   "outputs": [
    {
     "data": {
      "text/html": [
       "<div>\n",
       "<style scoped>\n",
       "    .dataframe tbody tr th:only-of-type {\n",
       "        vertical-align: middle;\n",
       "    }\n",
       "\n",
       "    .dataframe tbody tr th {\n",
       "        vertical-align: top;\n",
       "    }\n",
       "\n",
       "    .dataframe thead th {\n",
       "        text-align: right;\n",
       "    }\n",
       "</style>\n",
       "<table border=\"1\" class=\"dataframe\">\n",
       "  <thead>\n",
       "    <tr style=\"text-align: right;\">\n",
       "      <th></th>\n",
       "      <th>session_id</th>\n",
       "      <th>sequence_of_clicks</th>\n",
       "    </tr>\n",
       "  </thead>\n",
       "  <tbody>\n",
       "    <tr>\n",
       "      <th>0</th>\n",
       "      <td>000eptzzospsbvn</td>\n",
       "      <td>[1552213, 1493234]</td>\n",
       "    </tr>\n",
       "    <tr>\n",
       "      <th>1</th>\n",
       "      <td>000njqw1yn9cnot</td>\n",
       "      <td>[1359923, 1523887]</td>\n",
       "    </tr>\n",
       "    <tr>\n",
       "      <th>2</th>\n",
       "      <td>002hjgmszqnjax9</td>\n",
       "      <td>[1463503, 1418365, 1531480]</td>\n",
       "    </tr>\n",
       "    <tr>\n",
       "      <th>3</th>\n",
       "      <td>002sayrysl2kwpj</td>\n",
       "      <td>[1370197, 1504305]</td>\n",
       "    </tr>\n",
       "    <tr>\n",
       "      <th>4</th>\n",
       "      <td>002wwkzgr4eqzzo</td>\n",
       "      <td>[1547253, 1362133, 1406687]</td>\n",
       "    </tr>\n",
       "  </tbody>\n",
       "</table>\n",
       "</div>"
      ],
      "text/plain": [
       "        session_id           sequence_of_clicks\n",
       "0  000eptzzospsbvn           [1552213, 1493234]\n",
       "1  000njqw1yn9cnot           [1359923, 1523887]\n",
       "2  002hjgmszqnjax9  [1463503, 1418365, 1531480]\n",
       "3  002sayrysl2kwpj           [1370197, 1504305]\n",
       "4  002wwkzgr4eqzzo  [1547253, 1362133, 1406687]"
      ]
     },
     "execution_count": 6,
     "metadata": {},
     "output_type": "execute_result"
    }
   ],
   "source": [
    "data['product_id'] = data['product_id'].astype(str)\n",
    "session_seq = data.groupby('session_id')['product_id'].apply(list).reset_index(\n",
    ").rename(columns={'product_id':\"sequence_of_clicks\"})\n",
    "session_seq.head()"
   ]
  },
  {
   "cell_type": "markdown",
   "metadata": {},
   "source": [
    "### Some data exploration on sequences"
   ]
  },
  {
   "cell_type": "markdown",
   "metadata": {},
   "source": [
    "**Checking the sequence length**"
   ]
  },
  {
   "cell_type": "code",
   "execution_count": 7,
   "metadata": {},
   "outputs": [
    {
     "data": {
      "text/html": [
       "<div>\n",
       "<style scoped>\n",
       "    .dataframe tbody tr th:only-of-type {\n",
       "        vertical-align: middle;\n",
       "    }\n",
       "\n",
       "    .dataframe tbody tr th {\n",
       "        vertical-align: top;\n",
       "    }\n",
       "\n",
       "    .dataframe thead th {\n",
       "        text-align: right;\n",
       "    }\n",
       "</style>\n",
       "<table border=\"1\" class=\"dataframe\">\n",
       "  <thead>\n",
       "    <tr style=\"text-align: right;\">\n",
       "      <th></th>\n",
       "      <th>session_id</th>\n",
       "      <th>sequence_of_clicks</th>\n",
       "      <th>sequence_length</th>\n",
       "    </tr>\n",
       "  </thead>\n",
       "  <tbody>\n",
       "    <tr>\n",
       "      <th>0</th>\n",
       "      <td>000eptzzospsbvn</td>\n",
       "      <td>[1552213, 1493234]</td>\n",
       "      <td>2</td>\n",
       "    </tr>\n",
       "    <tr>\n",
       "      <th>1</th>\n",
       "      <td>000njqw1yn9cnot</td>\n",
       "      <td>[1359923, 1523887]</td>\n",
       "      <td>2</td>\n",
       "    </tr>\n",
       "    <tr>\n",
       "      <th>2</th>\n",
       "      <td>002hjgmszqnjax9</td>\n",
       "      <td>[1463503, 1418365, 1531480]</td>\n",
       "      <td>3</td>\n",
       "    </tr>\n",
       "    <tr>\n",
       "      <th>3</th>\n",
       "      <td>002sayrysl2kwpj</td>\n",
       "      <td>[1370197, 1504305]</td>\n",
       "      <td>2</td>\n",
       "    </tr>\n",
       "    <tr>\n",
       "      <th>4</th>\n",
       "      <td>002wwkzgr4eqzzo</td>\n",
       "      <td>[1547253, 1362133, 1406687]</td>\n",
       "      <td>3</td>\n",
       "    </tr>\n",
       "  </tbody>\n",
       "</table>\n",
       "</div>"
      ],
      "text/plain": [
       "        session_id           sequence_of_clicks  sequence_length\n",
       "0  000eptzzospsbvn           [1552213, 1493234]                2\n",
       "1  000njqw1yn9cnot           [1359923, 1523887]                2\n",
       "2  002hjgmszqnjax9  [1463503, 1418365, 1531480]                3\n",
       "3  002sayrysl2kwpj           [1370197, 1504305]                2\n",
       "4  002wwkzgr4eqzzo  [1547253, 1362133, 1406687]                3"
      ]
     },
     "execution_count": 7,
     "metadata": {},
     "output_type": "execute_result"
    }
   ],
   "source": [
    "session_seq['sequence_length'] = session_seq['sequence_of_clicks'].apply(lambda x: len(x))\n",
    "session_seq.head()"
   ]
  },
  {
   "cell_type": "code",
   "execution_count": 8,
   "metadata": {},
   "outputs": [
    {
     "data": {
      "text/plain": [
       "<matplotlib.axes._subplots.AxesSubplot at 0x7fd627248190>"
      ]
     },
     "execution_count": 8,
     "metadata": {},
     "output_type": "execute_result"
    },
    {
     "data": {
      "image/png": "[encoded data removed]",
      "text/plain": [
       "<Figure size 432x288 with 1 Axes>"
      ]
     },
     "metadata": {
      "needs_background": "light"
     },
     "output_type": "display_data"
    }
   ],
   "source": [
    "session_seq['sequence_length'].plot.box()"
   ]
  },
  {
   "cell_type": "markdown",
   "metadata": {},
   "source": [
    "**Removing the outliers**"
   ]
  },
  {
   "cell_type": "code",
   "execution_count": 9,
   "metadata": {},
   "outputs": [
    {
     "data": {
      "text/plain": [
       "<matplotlib.axes._subplots.AxesSubplot at 0x7fd62738b580>"
      ]
     },
     "execution_count": 9,
     "metadata": {},
     "output_type": "execute_result"
    },
    {
     "data": {
      "image/png": "[encoded data removed]",
      "text/plain": [
       "<Figure size 432x288 with 1 Axes>"
      ]
     },
     "metadata": {
      "needs_background": "light"
     },
     "output_type": "display_data"
    }
   ],
   "source": [
    "session_seq = session_seq[session_seq['sequence_length'] <= session_seq['sequence_length'].quantile(0.95)]\n",
    "session_seq = session_seq[session_seq['sequence_length'] >= 2]\n",
    "session_seq['sequence_length'].plot.box()"
   ]
  },
  {
   "cell_type": "markdown",
   "metadata": {},
   "source": [
    "**Length ferequency**\n",
    "<br/><br/>\n",
    "give us a better insight how to select the window size in sampling"
   ]
  },
  {
   "cell_type": "code",
   "execution_count": 10,
   "metadata": {},
   "outputs": [
    {
     "data": {
      "text/plain": [
       "<matplotlib.axes._subplots.AxesSubplot at 0x7fd6275ded90>"
      ]
     },
     "execution_count": 10,
     "metadata": {},
     "output_type": "execute_result"
    },
    {
     "data": {
      "image/png": "[encoded data removed]",
      "text/plain": [
       "<Figure size 432x288 with 1 Axes>"
      ]
     },
     "metadata": {
      "needs_background": "light"
     },
     "output_type": "display_data"
    }
   ],
   "source": [
    "session_seq['sequence_length'].value_counts().to_frame().plot.bar()"
   ]
  },
  {
   "cell_type": "code",
   "execution_count": 11,
   "metadata": {},
   "outputs": [
    {
     "data": {
      "text/plain": [
       "[('1463503', '1418365'),\n",
       " ('1463503', '1531480'),\n",
       " ('1418365', '1463503'),\n",
       " ('1418365', '1531480'),\n",
       " ('1531480', '1463503'),\n",
       " ('1531480', '1418365')]"
      ]
     },
     "execution_count": 11,
     "metadata": {},
     "output_type": "execute_result"
    }
   ],
   "source": [
    "sample_data(['1463503', '1418365', '1531480'],  2)"
   ]
  },
  {
   "cell_type": "markdown",
   "metadata": {},
   "source": [
    "### Running SkipGram (using fasttext) on the sequences\n",
    "\n",
    "parameters:\n",
    "- ws: Window size\n",
    "- dim: Dimension of the vectors learned by model (the number of neurons in the hidden layer)\n",
    "- minCount: Ignore tokens with a frequency below this threshold\n",
    "- maxn and minn: Control the character ngram which is not used in our case (maxn=0 disable character ngram)\n",
    "- neg: Number of negative words to sample\n",
    "- wordNgrams: max length of word ngram\n",
    "- loss: loss function"
   ]
  },
  {
   "cell_type": "code",
   "execution_count": 12,
   "metadata": {},
   "outputs": [],
   "source": [
    "fasttext_params = {\n",
    "            \"model\": \"skipgram\",\n",
    "            \"lr\": 0.05,\n",
    "            \"dim\": 100,\n",
    "            \"ws\": 3,\n",
    "            \"epoch\": 100,\n",
    "            \"minCount\": 1,\n",
    "            \"minn\": 3,\n",
    "            \"maxn\": 0,\n",
    "            \"neg\": 5,\n",
    "            \"wordNgrams\": 1,\n",
    "            \"loss\": \"ns\",\n",
    "            \"thread\": 24,\n",
    "            \"verbose\": 2,\n",
    "        }\n",
    "sequence_txt_file = 'data/seq.txt'\n",
    "sequence = [' '.join(x) for x in session_seq['sequence_of_clicks'].values]\n",
    "np.savetxt(sequence_txt_file, sequence, fmt=\"%s\", encoding=\"utf-8\")\n",
    "model = fasttext.train_unsupervised(sequence_txt_file, **fasttext_params)"
   ]
  },
  {
   "cell_type": "markdown",
   "metadata": {},
   "source": [
    "### Generating Embeddings"
   ]
  },
  {
   "cell_type": "code",
   "execution_count": 13,
   "metadata": {},
   "outputs": [],
   "source": [
    "vectors = np.vstack([model[x] for x in model.words]).astype(\"double\")\n",
    "vocabs = model.words\n",
    "\n",
    "vectors_dict = dict(zip(vocabs, vectors))"
   ]
  },
  {
   "cell_type": "code",
   "execution_count": 14,
   "metadata": {},
   "outputs": [
    {
     "data": {
      "text/plain": [
       "array([-0.15974151,  0.50016111,  0.11144283, -0.04019883,  0.02896135,\n",
       "        0.55747342, -0.86979032, -0.08291665,  0.51260394,  0.27334294,\n",
       "       -0.47522667,  0.08812857,  0.07488676,  0.43909878, -0.05552055,\n",
       "       -0.04158247, -0.2015339 , -0.28238773, -0.42234358, -0.65958047,\n",
       "        0.04894902,  0.29460537, -0.43803856, -0.06939999, -0.06325313,\n",
       "       -0.55731052,  0.04237491, -0.48052377, -0.46020526, -0.17407413,\n",
       "       -0.00897498,  0.30841878, -0.64709556, -0.2826674 , -0.83953768,\n",
       "       -0.94493467, -0.27746624, -0.64463383, -0.34668419, -0.14304832,\n",
       "        0.70877218,  0.12719856, -0.40048179,  0.10615008,  0.24696551,\n",
       "        0.80220497,  0.05904085, -0.10763492,  0.11501101,  0.85547256,\n",
       "       -0.3877537 , -0.22469091,  0.2255317 ,  0.59263337,  0.0093963 ,\n",
       "        0.31375653, -0.16288514, -0.06222888, -0.63547313, -0.77470285,\n",
       "        0.47641191,  0.25767127,  0.54996759,  0.39072996, -0.03254315,\n",
       "        0.39712963, -0.11045434,  0.24671383,  0.65878993,  0.19240187,\n",
       "       -0.39172685,  0.51174599,  0.35182405, -0.0483367 , -0.51236385,\n",
       "       -0.26873544, -0.15522164,  1.08219492,  0.54557157,  0.3445068 ,\n",
       "       -0.00757963, -0.23838887,  0.03693924, -0.41557482,  0.88269937,\n",
       "       -0.29324493, -0.43250158,  0.46630776, -0.05323811, -0.07370317,\n",
       "       -0.30814427,  0.13794419,  0.0109415 , -0.6227926 ,  0.29348192,\n",
       "       -0.58948553,  0.586878  ,  0.77062303, -0.18947491, -0.10126055])"
      ]
     },
     "execution_count": 14,
     "metadata": {},
     "output_type": "execute_result"
    }
   ],
   "source": [
    "vectors_dict['1531480']"
   ]
  },
  {
   "cell_type": "markdown",
   "metadata": {},
   "source": [
    "### Cosine similarity"
   ]
  },
  {
   "cell_type": "code",
   "execution_count": 15,
   "metadata": {},
   "outputs": [],
   "source": [
    "import numpy as np\n",
    "\n",
    "\n",
    "def cos_sim(a, b):\n",
    "    \"\"\"\n",
    "    Takes 2 ndarray and  a, b and returns the cosine similarity according\n",
    "    to the definition of the dot product.\n",
    "        a should be a single 1-d array\n",
    "        b should be a 2-d array\n",
    "    \"\"\"\n",
    "\n",
    "    norm_a = np.linalg.norm(a)\n",
    "    norm_b = np.linalg.norm(b, axis=1)\n",
    "    return np.dot(a, b.T) / (norm_a * norm_b)"
   ]
  },
  {
   "cell_type": "markdown",
   "metadata": {},
   "source": [
    "### Build a hash table for (product_id, image)"
   ]
  },
  {
   "cell_type": "code",
   "execution_count": 16,
   "metadata": {},
   "outputs": [],
   "source": [
    "files = glob.glob('product_images/*.jpeg')\n",
    "file_dict = {}\n",
    "for file in files:\n",
    "    result = re.search('images/(.*).jpeg', file)\n",
    "    file_dict[result.group(1)] = file   "
   ]
  },
  {
   "cell_type": "markdown",
   "metadata": {},
   "source": [
    "### Finding similar items to a given item "
   ]
  },
  {
   "cell_type": "code",
   "execution_count": 17,
   "metadata": {},
   "outputs": [
    {
     "name": "stdout",
     "output_type": "stream",
     "text": [
      "[('1556752', 1.0), ('1387755', 0.9302316584339484), ('1550991', 0.9062990540656122), ('1512698', 0.8844341504834112), ('1361244', 0.8774410995339641), ('1475404', 0.8756819063672393), ('1434085', 0.8442907369873488), ('1524895', 0.8395499202229045), ('1458552', 0.8385506282442269)]\n"
     ]
    }
   ],
   "source": [
    "sims = cos_sim(vectors_dict['1556752'], vectors)\n",
    "sims = sorted(zip(vocabs, sims), key=lambda x: x[1], reverse=True)[:9]\n",
    "print(sims)"
   ]
  },
  {
   "cell_type": "code",
   "execution_count": 18,
   "metadata": {},
   "outputs": [],
   "source": [
    "images = []\n",
    "for product_id, sim in sims: \n",
    "    images.append(file_dict[product_id]) "
   ]
  },
  {
   "cell_type": "code",
   "execution_count": 19,
   "metadata": {},
   "outputs": [
    {
     "data": {
      "image/png": "[encoded data removed]",
      "text/plain": [
       "<Figure size 432x288 with 1 Axes>"
      ]
     },
     "metadata": {
      "needs_background": "light"
     },
     "output_type": "display_data"
    },
    {
     "data": {
      "image/png": "[encoded data removed]",
      "text/plain": [
       "<Figure size 720x504 with 8 Axes>"
      ]
     },
     "metadata": {
      "needs_background": "light"
     },
     "output_type": "display_data"
    }
   ],
   "source": [
    "img = cv2.imread(images[0], cv2.IMREAD_COLOR)\n",
    "plt.imshow(img[:,:,::-1])\n",
    "\n",
    "\n",
    "fig = plt.figure(figsize=(10, 7))\n",
    "i = 1\n",
    "for image in images[1:]:\n",
    "    img =  cv2.imread(image, cv2.IMREAD_COLOR)\n",
    "    ax = fig.add_subplot(3, 3, i)\n",
    "    plt.imshow(img[:,:,::-1])\n",
    "    i = i + 1"
   ]
  },
  {
   "cell_type": "markdown",
   "metadata": {},
   "source": [
    "### Approximate Nearest Neighbor (ANN)"
   ]
  },
  {
   "cell_type": "markdown",
   "metadata": {},
   "source": [
    "```\n",
    "Finding points in a high-dimensional space that are close to a given query point in a fast but approximate manner.\n",
    "\n",
    "In each tree, the set of training points is recursively partitioned into smaller and smaller subsets until a leaf node of at most M points is reached. Each partition is based on the cosine of the angle the points make with a randomly drawn hyperplane: points whose angle is smaller than the median angle fall in the left partition, and the remaining points fall in the right partition.\n",
    "```"
   ]
  },
  {
   "cell_type": "markdown",
   "metadata": {},
   "source": [
    "![title](img/rpforest.png)"
   ]
  },
  {
   "cell_type": "markdown",
   "metadata": {},
   "source": [
    "### Train rpforest"
   ]
  },
  {
   "cell_type": "code",
   "execution_count": 27,
   "metadata": {},
   "outputs": [
    {
     "data": {
      "text/plain": [
       "<rpforest.rpforest.RPForest at 0x7fd5fc2bba90>"
      ]
     },
     "execution_count": 27,
     "metadata": {},
     "output_type": "execute_result"
    }
   ],
   "source": [
    "rpf_model = RPForest(leaf_size=50, no_trees=10)\n",
    "rpf_model.fit(vectors)"
   ]
  },
  {
   "cell_type": "markdown",
   "metadata": {},
   "source": [
    "### Finding similar items by making query to ANN"
   ]
  },
  {
   "cell_type": "code",
   "execution_count": 28,
   "metadata": {},
   "outputs": [],
   "source": [
    "sims_index = rpf_model.query(vectors_dict['1556752'], 9)\n",
    "sims = [vocabs[i] for i in sims_index]"
   ]
  },
  {
   "cell_type": "code",
   "execution_count": 29,
   "metadata": {},
   "outputs": [],
   "source": [
    "images = []\n",
    "for product_id in sims:\n",
    "    try:\n",
    "        images.append(file_dict[product_id])\n",
    "    except KeyError:\n",
    "        continue"
   ]
  },
  {
   "cell_type": "code",
   "execution_count": 30,
   "metadata": {},
   "outputs": [
    {
     "data": {
      "image/png": "[encoded data removed]",
      "text/plain": [
       "<Figure size 432x288 with 1 Axes>"
      ]
     },
     "metadata": {
      "needs_background": "light"
     },
     "output_type": "display_data"
    },
    {
     "data": {
      "image/png": "[encoded data removed]",
      "text/plain": [
       "<Figure size 720x504 with 3 Axes>"
      ]
     },
     "metadata": {
      "needs_background": "light"
     },
     "output_type": "display_data"
    }
   ],
   "source": [
    "img = cv2.imread(images[0], cv2.IMREAD_COLOR)\n",
    "plt.imshow(img[:,:,::-1])\n",
    "\n",
    "\n",
    "fig = plt.figure(figsize=(10, 7))\n",
    "i = 1\n",
    "for image in images[1:]:\n",
    "    img =  cv2.imread(image, cv2.IMREAD_COLOR)\n",
    "    ax = fig.add_subplot(3, 3, i)\n",
    "    plt.imshow(img[:,:,::-1])\n",
    "    i = i + 1"
   ]
  },
  {
   "cell_type": "markdown",
   "metadata": {},
   "source": [
    "### Cold start problem"
   ]
  },
  {
   "cell_type": "markdown",
   "metadata": {},
   "source": [
    "Cold start heppens in this steup when an item have some content information but no interactions are present\n",
    " - **An efficnet solution would be using a triplet neural network**\n",
    " \n",
    "Triplet NN helps us to learn distributed embedding by the notion of similarity and dissimilarity. It's a kind of neural network architecture where multiple parallel networks are trained that share weights among each other.\n"
   ]
  },
  {
   "cell_type": "markdown",
   "metadata": {},
   "source": [
    "![title](img/triplet_NN.png)"
   ]
  },
  {
   "cell_type": "markdown",
   "metadata": {},
   "source": [
    "![title](img/triplet_rec_embeddings.png)"
   ]
  },
  {
   "cell_type": "markdown",
   "metadata": {},
   "source": [
    "### Sampling Anchor, Positive and Negative\n",
    "sampling anchor and positive is the same as what has been explained in Item2vec approach"
   ]
  },
  {
   "cell_type": "code",
   "execution_count": 35,
   "metadata": {},
   "outputs": [
    {
     "data": {
      "text/plain": [
       "[('1463503', '1418365'),\n",
       " ('1463503', '1531480'),\n",
       " ('1418365', '1463503'),\n",
       " ('1418365', '1531480'),\n",
       " ('1531480', '1463503'),\n",
       " ('1531480', '1418365')]"
      ]
     },
     "execution_count": 35,
     "metadata": {},
     "output_type": "execute_result"
    }
   ],
   "source": [
    "samples = sample_data(['1463503', '1418365', '1531480'],  2)\n",
    "samples"
   ]
  },
  {
   "cell_type": "markdown",
   "metadata": {},
   "source": [
    "All samples"
   ]
  },
  {
   "cell_type": "code",
   "execution_count": 70,
   "metadata": {},
   "outputs": [],
   "source": [
    "all_samples = session_seq['sequence_of_clicks'].apply(lambda x:sample_data(x, 2))\n",
    "all_samples = np.concatenate(all_samples.values)"
   ]
  },
  {
   "cell_type": "code",
   "execution_count": 76,
   "metadata": {},
   "outputs": [
    {
     "data": {
      "text/html": [
       "<div>\n",
       "<style scoped>\n",
       "    .dataframe tbody tr th:only-of-type {\n",
       "        vertical-align: middle;\n",
       "    }\n",
       "\n",
       "    .dataframe tbody tr th {\n",
       "        vertical-align: top;\n",
       "    }\n",
       "\n",
       "    .dataframe thead th {\n",
       "        text-align: right;\n",
       "    }\n",
       "</style>\n",
       "<table border=\"1\" class=\"dataframe\">\n",
       "  <thead>\n",
       "    <tr style=\"text-align: right;\">\n",
       "      <th></th>\n",
       "      <th>anchor</th>\n",
       "      <th>positive</th>\n",
       "    </tr>\n",
       "  </thead>\n",
       "  <tbody>\n",
       "    <tr>\n",
       "      <th>0</th>\n",
       "      <td>1552213</td>\n",
       "      <td>1493234</td>\n",
       "    </tr>\n",
       "    <tr>\n",
       "      <th>1</th>\n",
       "      <td>1493234</td>\n",
       "      <td>1552213</td>\n",
       "    </tr>\n",
       "    <tr>\n",
       "      <th>2</th>\n",
       "      <td>1359923</td>\n",
       "      <td>1523887</td>\n",
       "    </tr>\n",
       "    <tr>\n",
       "      <th>3</th>\n",
       "      <td>1523887</td>\n",
       "      <td>1359923</td>\n",
       "    </tr>\n",
       "    <tr>\n",
       "      <th>4</th>\n",
       "      <td>1463503</td>\n",
       "      <td>1418365</td>\n",
       "    </tr>\n",
       "  </tbody>\n",
       "</table>\n",
       "</div>"
      ],
      "text/plain": [
       "    anchor positive\n",
       "0  1552213  1493234\n",
       "1  1493234  1552213\n",
       "2  1359923  1523887\n",
       "3  1523887  1359923\n",
       "4  1463503  1418365"
      ]
     },
     "execution_count": 76,
     "metadata": {},
     "output_type": "execute_result"
    }
   ],
   "source": [
    "df = pd.DataFrame(all_samples, columns=['anchor', 'positive'])\n",
    "df.head()"
   ]
  },
  {
   "cell_type": "markdown",
   "metadata": {},
   "source": [
    "What about negatives???\n",
    "the negatives are sampled randomly"
   ]
  },
  {
   "cell_type": "code",
   "execution_count": 79,
   "metadata": {},
   "outputs": [
    {
     "data": {
      "text/html": [
       "<div>\n",
       "<style scoped>\n",
       "    .dataframe tbody tr th:only-of-type {\n",
       "        vertical-align: middle;\n",
       "    }\n",
       "\n",
       "    .dataframe tbody tr th {\n",
       "        vertical-align: top;\n",
       "    }\n",
       "\n",
       "    .dataframe thead th {\n",
       "        text-align: right;\n",
       "    }\n",
       "</style>\n",
       "<table border=\"1\" class=\"dataframe\">\n",
       "  <thead>\n",
       "    <tr style=\"text-align: right;\">\n",
       "      <th></th>\n",
       "      <th>anchor</th>\n",
       "      <th>positive</th>\n",
       "      <th>negative</th>\n",
       "    </tr>\n",
       "  </thead>\n",
       "  <tbody>\n",
       "    <tr>\n",
       "      <th>0</th>\n",
       "      <td>1552213</td>\n",
       "      <td>1493234</td>\n",
       "      <td>1360042</td>\n",
       "    </tr>\n",
       "    <tr>\n",
       "      <th>1</th>\n",
       "      <td>1493234</td>\n",
       "      <td>1552213</td>\n",
       "      <td>1455816</td>\n",
       "    </tr>\n",
       "    <tr>\n",
       "      <th>2</th>\n",
       "      <td>1359923</td>\n",
       "      <td>1523887</td>\n",
       "      <td>1478708</td>\n",
       "    </tr>\n",
       "    <tr>\n",
       "      <th>3</th>\n",
       "      <td>1523887</td>\n",
       "      <td>1359923</td>\n",
       "      <td>1362036</td>\n",
       "    </tr>\n",
       "    <tr>\n",
       "      <th>4</th>\n",
       "      <td>1463503</td>\n",
       "      <td>1418365</td>\n",
       "      <td>1358825</td>\n",
       "    </tr>\n",
       "  </tbody>\n",
       "</table>\n",
       "</div>"
      ],
      "text/plain": [
       "    anchor positive negative\n",
       "0  1552213  1493234  1360042\n",
       "1  1493234  1552213  1455816\n",
       "2  1359923  1523887  1478708\n",
       "3  1523887  1359923  1362036\n",
       "4  1463503  1418365  1358825"
      ]
     },
     "execution_count": 79,
     "metadata": {},
     "output_type": "execute_result"
    }
   ],
   "source": [
    "df['negative'] = df['positive'].sample(frac=1).reset_index(drop=True)\n",
    "df.head()"
   ]
  },
  {
   "cell_type": "markdown",
   "metadata": {},
   "source": [
    "### Triplet loss"
   ]
  },
  {
   "cell_type": "markdown",
   "metadata": {},
   "source": [
    "L(a, p, n) = max(0, D(a, p) — D(a, n) + margin)"
   ]
  },
  {
   "cell_type": "code",
   "execution_count": null,
   "metadata": {},
   "outputs": [],
   "source": [
    "def triplet_loss(a, p, n, margin):\n",
    "    dist_a_p = 1 - cos_sim(a, p.reshape(1, -1))[0]\n",
    "    dist_a_n = 1 - cos_sim(a, n.reshape(1, -1))[0]\n",
    "    return max(dist_a_p - dist_a_n + margin, 0)"
   ]
  },
  {
   "cell_type": "markdown",
   "metadata": {},
   "source": [
    "The higher margin, the softer negatives contributes into the cost  "
   ]
  },
  {
   "cell_type": "code",
   "execution_count": null,
   "metadata": {},
   "outputs": [],
   "source": [
    "a = vectors_dict['1556752']\n",
    "p = vectors_dict['1387755']\n",
    "s_n = vectors_dict['1418365'] #soft_negative\n",
    "s_h = vectors_dict['1451117'] #hard_negative\n",
    "\n",
    "triplet_loss(a, p, s_h, margin= 0.5)"
   ]
  },
  {
   "cell_type": "code",
   "execution_count": null,
   "metadata": {},
   "outputs": [],
   "source": []
  }
 ],
 "metadata": {
  "kernelspec": {
   "display_name": "Python 3",
   "language": "python",
   "name": "python3"
  },
  "language_info": {
   "codemirror_mode": {
    "name": "ipython",
    "version": 3
   },
   "file_extension": ".py",
   "mimetype": "text/x-python",
   "name": "python",
   "nbconvert_exporter": "python",
   "pygments_lexer": "ipython3",
   "version": "3.8.5"
  }
 },
 "nbformat": 4,
 "nbformat_minor": 4
}
